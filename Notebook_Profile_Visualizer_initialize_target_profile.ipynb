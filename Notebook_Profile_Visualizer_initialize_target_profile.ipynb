{
 "cells": [
  {
   "cell_type": "markdown",
   "metadata": {},
   "source": [
    "## Instantiate `NotebookProfileViewer` and set the target profile:"
   ]
  },
  {
   "cell_type": "code",
   "execution_count": 6,
   "metadata": {},
   "outputs": [],
   "source": [
    "from whylogs.viz import NotebookProfileViewer\n",
    "\n",
    "visualization = NotebookProfileViewer()\n",
    "visualization.set_profiles(target_profile=target_profile)"
   ]
  }
 ],
 "metadata": {
  "interpreter": {
   "hash": "498e653baf04937463e348bd994b2947df7aeb22ca9551fbd507161022670ceb"
  },
  "kernelspec": {
   "display_name": "whylabs_env",
   "language": "python",
   "name": "whylabs_env"
  },
  "language_info": {
   "codemirror_mode": {
    "name": "ipython",
    "version": 3
   },
   "file_extension": ".py",
   "mimetype": "text/x-python",
   "name": "python",
   "nbconvert_exporter": "python",
   "pygments_lexer": "ipython3",
   "version": "3.9.7"
  }
 },
 "nbformat": 4,
 "nbformat_minor": 2
}
