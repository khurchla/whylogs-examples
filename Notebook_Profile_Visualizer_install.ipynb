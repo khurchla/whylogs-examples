{
 "cells": [
  {
   "cell_type": "markdown",
   "id": "36a94832",
   "metadata": {},
   "source": [
    "## Install Dependencies\n",
    "To use the profile visualizer, install `whylogs v1` with the extra package `viz`.\n",
    "\n",
    "You can install it directly in your notebook by prepending the terminal/shell command with `!` exclamation point."
   ]
  },
  {
   "cell_type": "code",
   "execution_count": 1,
   "id": "1d8a19be",
   "metadata": {},
   "outputs": [],
   "source": [
    "# in a notebook, if you are using zsh, \n",
    "# excape command in hard brackets\n",
    "!pip install -q --upgrade whylogs\\[viz\\]"
   ]
  },
  {
   "cell_type": "code",
   "execution_count": 2,
   "id": "5e6fc55d",
   "metadata": {},
   "outputs": [],
   "source": [
    "# # or directly in a terminal/shell window with zsh\n",
    "# pip install --upgrade whylogs\\[viz\\]"
   ]
  },
  {
   "cell_type": "code",
   "execution_count": 3,
   "id": "34cd7b85",
   "metadata": {},
   "outputs": [],
   "source": [
    "# # or in a notebook with bash\n",
    "# !pip install -q --upgrade whylogs[viz]"
   ]
  },
  {
   "cell_type": "code",
   "execution_count": 4,
   "id": "0b66d2b8",
   "metadata": {},
   "outputs": [],
   "source": [
    "# # or directly in a terminal/shell window with bash\n",
    "# pip install --upgrade whylogs[viz]"
   ]
  }
 ],
 "metadata": {
  "kernelspec": {
   "display_name": "whylabs_env",
   "language": "python",
   "name": "whylabs_env"
  },
  "language_info": {
   "codemirror_mode": {
    "name": "ipython",
    "version": 3
   },
   "file_extension": ".py",
   "mimetype": "text/x-python",
   "name": "python",
   "nbconvert_exporter": "python",
   "pygments_lexer": "ipython3",
   "version": "3.9.12"
  }
 },
 "nbformat": 4,
 "nbformat_minor": 5
}
