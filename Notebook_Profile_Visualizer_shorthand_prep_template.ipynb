{
 "cells": [
  {
   "cell_type": "markdown",
   "metadata": {},
   "source": [
    "# Preparing to Use Profile Visualizer for Wine Quality"
   ]
  },
  {
   "cell_type": "markdown",
   "metadata": {},
   "source": [
    "## Prepare the data"
   ]
  },
  {
   "cell_type": "code",
   "execution_count": 1,
   "metadata": {},
   "outputs": [],
   "source": [
    "# Import library dependencies\n",
    "import pandas as pd\n",
    "import datetime\n",
    "from whylogs import get_or_create_session\n",
    "\n",
    "# Load the data\n",
    "url = \"http://archive.ics.uci.edu/ml/machine-learning-databases/wine-quality/winequality-red.csv\"\n",
    "wine = pd.read_csv(url,sep=\";\")\n",
    "\n",
    "# Split the wines in two groups\n",
    "cond_reference = (wine['alcohol']<=11)\n",
    "wine_reference = wine.loc[cond_reference]\n",
    "\n",
    "cond_target = (wine['alcohol']>11)\n",
    "wine_target = wine.loc[cond_target]\n",
    "\n",
    "# add some missing values for data variability\n",
    "ixs = wine_target.iloc[100:110].index\n",
    "wine_target.loc[ixs,'citric acid'] = None\n",
    "\n",
    "# transform numerical 'quality' to a categorical feature containing Good for anything above 6.5, othererwise Bad\n",
    "pd.options.mode.chained_assignment = None  # Disabling false positive warning\n",
    "\n",
    "bins = (2, 6.5, 8)\n",
    "group_names = ['bad', 'good']\n",
    "\n",
    "wine_reference['quality'] = pd.cut(wine_reference['quality'], bins = bins, labels = group_names)\n",
    "wine_target['quality'] = pd.cut(wine_target['quality'], bins = bins, labels = group_names)"
   ]
  },
  {
   "cell_type": "markdown",
   "metadata": {},
   "source": [
    "## Profile the prepared dataframes with `whylogs`"
   ]
  },
  {
   "cell_type": "code",
   "execution_count": 2,
   "metadata": {},
   "outputs": [
    {
     "name": "stdout",
     "output_type": "stream",
     "text": [
      "WARN: Missing config\n"
     ]
    }
   ],
   "source": [
    "import datetime\n",
    "from whylogs import get_or_create_session\n",
    "\n",
    "\n",
    "session = get_or_create_session()\n",
    "now = datetime.datetime.now()\n",
    "\n",
    "with session.logger(\"drift-test\", dataset_timestamp=now-datetime.timedelta(days=1)) as logger:\n",
    "    logger.log_dataframe(wine_reference)\n",
    "    reference_profile = logger.profile"
   ]
  },
  {
   "cell_type": "code",
   "execution_count": 3,
   "metadata": {},
   "outputs": [],
   "source": [
    "session = get_or_create_session()\n",
    "now = datetime.datetime.now()\n",
    "\n",
    "with session.logger(\"drift-test\", dataset_timestamp=now) as logger:\n",
    "    logger.log_dataframe(wine_target)\n",
    "    target_profile = logger.profile"
   ]
  },
  {
   "cell_type": "markdown",
   "metadata": {},
   "source": [
    "## Instantiate profile visualizer with the reference and target profiles"
   ]
  },
  {
   "cell_type": "markdown",
   "metadata": {},
   "source": [
    "Instantiate `NotebookProfileViewer` and set the reference and target profiles:"
   ]
  },
  {
   "cell_type": "code",
   "execution_count": 4,
   "metadata": {},
   "outputs": [],
   "source": [
    "from whylogs.viz import NotebookProfileViewer\n",
    "\n",
    "visualization = NotebookProfileViewer()\n",
    "visualization.set_profiles(target_profile=target_profile, reference_profile=reference_profile)"
   ]
  }
 ],
 "metadata": {
  "interpreter": {
   "hash": "498e653baf04937463e348bd994b2947df7aeb22ca9551fbd507161022670ceb"
  },
  "kernelspec": {
   "display_name": "whylabs_env",
   "language": "python",
   "name": "whylabs_env"
  },
  "language_info": {
   "codemirror_mode": {
    "name": "ipython",
    "version": 3
   },
   "file_extension": ".py",
   "mimetype": "text/x-python",
   "name": "python",
   "nbconvert_exporter": "python",
   "pygments_lexer": "ipython3",
   "version": "3.9.7"
  }
 },
 "nbformat": 4,
 "nbformat_minor": 2
}
